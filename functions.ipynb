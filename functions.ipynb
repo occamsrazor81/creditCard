{
 "cells": [
  {
   "cell_type": "code",
   "execution_count": 1,
   "metadata": {},
   "outputs": [],
   "source": [
    "##funkcije"
   ]
  },
  {
   "cell_type": "code",
   "execution_count": 9,
   "metadata": {},
   "outputs": [],
   "source": [
    "import pandas as pd\n",
    "import numpy as np\n",
    "import matplotlib.pyplot as plt\n",
    "import seaborn as sns\n",
    "from imblearn.metrics import classification_report_imbalanced\n",
    "from sklearn.metrics import precision_score, recall_score, f1_score, roc_auc_score, accuracy_score, classification_report\n",
    "from sklearn.metrics import precision_recall_curve, confusion_matrix, plot_confusion_matrix, roc_curve, auc"
   ]
  },
  {
   "cell_type": "code",
   "execution_count": 10,
   "metadata": {},
   "outputs": [],
   "source": [
    "def precision_recall_f1_scores(correct, predicted):\n",
    "    print('\\tPrecision score: ' + str(round(precision_score(correct, predicted), 4) * 100) + '%')\n",
    "    print('\\tRecall score: ' + str(round(recall_score(correct, predicted), 4) * 100) + '%')\n",
    "    print('\\tF1 score: ' + str(round(f1_score(correct, predicted), 4) * 100) + '%')"
   ]
  },
  {
   "cell_type": "code",
   "execution_count": 11,
   "metadata": {},
   "outputs": [],
   "source": [
    "def plot_confusion_matrix(conf_mat, y_test_non_fraud, y_test_fraud):\n",
    "    fig, ax = plt.subplots(1,2,figsize=(15,6))\n",
    "    labels = ['Valjana', 'Prevara']\n",
    "    ax[0].set_title('Konfuzijska matrica')\n",
    "    sns.heatmap(conf_mat, ax=ax[0], linewidths=0.5, annot=True,\n",
    "            square=True, cmap = plt.cm.coolwarm, linecolor='white',\n",
    "               xticklabels=labels, yticklabels=labels)\n",
    "    \n",
    "    \n",
    "    ax[1].set_title('Normalizirana konfuzijska matrica')\n",
    "    norm_coef = np.array([[1/y_test_non_fraud, 1/y_test_non_fraud],\n",
    "                         [1/y_test_fraud, 1/y_test_fraud]])\n",
    "    normalized_cm = conf_mat * norm_coef \n",
    "    sns.heatmap(normalized_cm, ax=ax[1], linewidths=0.5, annot=True,\n",
    "            square=True, cmap = plt.cm.coolwarm, linecolor='white',\n",
    "               xticklabels=labels, yticklabels=labels)\n",
    "    \n",
    "    plt.show()\n"
   ]
  },
  {
   "cell_type": "code",
   "execution_count": 12,
   "metadata": {},
   "outputs": [],
   "source": [
    "def plot_roc_auc_curve(correct, predicted):\n",
    "    fpr, tpr, threshold = roc_curve(correct, predicted)\n",
    "    area_under_curve = auc(fpr,tpr)\n",
    "    plt.plot([0, 1], [0, 1], \"k--\")\n",
    "    plt.plot(fpr, tpr, label=\"AUC = \" + str(round(area_under_curve,3)))\n",
    "    plt.xlabel(\"False positive rate\")\n",
    "    plt.ylabel(\"True positive rate\")\n",
    "    plt.title(\"ROC curve\")\n",
    "    plt.legend()\n",
    "    plt.show()"
   ]
  },
  {
   "cell_type": "code",
   "execution_count": 13,
   "metadata": {},
   "outputs": [],
   "source": [
    "def plot_precision_recall_curve(correct, predicted):\n",
    "    precision, recall, threshold = precision_recall_curve(correct, predicted)\n",
    "    aupr = auc(recall, precision)\n",
    "    plt.step(recall, precision, color = 'b', alpha = 0.2,\n",
    "             where = 'post')\n",
    "    plt.fill_between(recall, precision, step ='post', alpha = 0.2,\n",
    "                 color = 'b')\n",
    "\n",
    "    plt.plot(recall, precision, linewidth=2, label=\"AUC = \" + str(round(aupr,3)))\n",
    "    plt.xlim([0,1])\n",
    "    plt.ylim([0,1])\n",
    "    plt.xlabel('Recall')\n",
    "    plt.ylabel('Precision')\n",
    "    plt.title('Precision Recall Curve')\n",
    "    plt.legend()\n",
    "    plt.show();\n"
   ]
  },
  {
   "cell_type": "code",
   "execution_count": 16,
   "metadata": {},
   "outputs": [],
   "source": [
    "def print_everything(y_data_test, full_pred, non_frauds, frauds, full_pred_score, log_reg_bool):\n",
    "    print('-'*100)\n",
    "    print('Predikcija za cijeli dataset:')\n",
    "    precision_recall_f1_scores(y_data_test, full_pred)\n",
    "    print()\n",
    "    print('-'*100)\n",
    "    print(classification_report(y_data_test, full_pred))\n",
    "    print()\n",
    "    print('-'*100)\n",
    "    plot_confusion_matrix(confusion_matrix(y_data_test, full_pred), y_data_test_non_fraud_num, y_data_test_fraud_num)\n",
    "    print('-'*100)\n",
    "    \n",
    "    if log_reg_bool:\n",
    "        plot_roc_auc_curve(y_data_test, full_pred_score)\n",
    "        plot_precision_recall_curve(y_data_test, full_pred_score)"
   ]
  },
  {
   "cell_type": "code",
   "execution_count": null,
   "metadata": {},
   "outputs": [],
   "source": []
  }
 ],
 "metadata": {
  "kernelspec": {
   "display_name": "Python 3",
   "language": "python",
   "name": "python3"
  },
  "language_info": {
   "codemirror_mode": {
    "name": "ipython",
    "version": 3
   },
   "file_extension": ".py",
   "mimetype": "text/x-python",
   "name": "python",
   "nbconvert_exporter": "python",
   "pygments_lexer": "ipython3",
   "version": "3.7.6"
  }
 },
 "nbformat": 4,
 "nbformat_minor": 4
}
