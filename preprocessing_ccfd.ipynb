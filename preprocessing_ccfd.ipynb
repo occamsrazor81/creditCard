{
 "cells": [
  {
   "cell_type": "markdown",
   "metadata": {},
   "source": [
    "## Priprema podataka"
   ]
  },
  {
   "cell_type": "code",
   "execution_count": 2,
   "metadata": {},
   "outputs": [],
   "source": [
    "import pandas as pd\n",
    "import numpy as np\n",
    "import collections\n",
    "import time"
   ]
  },
  {
   "cell_type": "code",
   "execution_count": 3,
   "metadata": {},
   "outputs": [],
   "source": [
    "import xgboost as xgb\n",
    "import lightgbm as lgb\n",
    "from xgboost import XGBClassifier\n",
    "from lightgbm import LGBMClassifier\n",
    "from catboost import CatBoostClassifier\n",
    "from sklearn.ensemble import AdaBoostClassifier\n",
    "\n",
    "from sklearn.linear_model import LogisticRegression\n",
    "from sklearn.svm import SVC\n",
    "from sklearn.neighbors import KNeighborsClassifier\n",
    "from sklearn.ensemble import BaggingClassifier\n",
    "from imblearn.ensemble import BalancedBaggingClassifier\n",
    "from sklearn.tree import DecisionTreeClassifier\n",
    "from sklearn.ensemble import RandomForestClassifier\n",
    "from sklearn.ensemble import VotingClassifier\n",
    "from imblearn.ensemble import EasyEnsembleClassifier"
   ]
  },
  {
   "cell_type": "code",
   "execution_count": 4,
   "metadata": {},
   "outputs": [],
   "source": [
    "from sklearn.model_selection import cross_val_score\n",
    "from sklearn.model_selection import GridSearchCV\n",
    "from sklearn.model_selection import train_test_split\n",
    "from sklearn.pipeline import make_pipeline\n",
    "from imblearn.pipeline import make_pipeline as imbalanced_make_pipeline"
   ]
  },
  {
   "cell_type": "code",
   "execution_count": 5,
   "metadata": {},
   "outputs": [],
   "source": [
    "data = pd.read_csv('creditcard.csv')"
   ]
  },
  {
   "cell_type": "code",
   "execution_count": 6,
   "metadata": {},
   "outputs": [
    {
     "data": {
      "text/html": [
       "<div>\n",
       "<style scoped>\n",
       "    .dataframe tbody tr th:only-of-type {\n",
       "        vertical-align: middle;\n",
       "    }\n",
       "\n",
       "    .dataframe tbody tr th {\n",
       "        vertical-align: top;\n",
       "    }\n",
       "\n",
       "    .dataframe thead th {\n",
       "        text-align: right;\n",
       "    }\n",
       "</style>\n",
       "<table border=\"1\" class=\"dataframe\">\n",
       "  <thead>\n",
       "    <tr style=\"text-align: right;\">\n",
       "      <th></th>\n",
       "      <th>Time</th>\n",
       "      <th>V1</th>\n",
       "      <th>V2</th>\n",
       "      <th>V3</th>\n",
       "      <th>V4</th>\n",
       "      <th>V5</th>\n",
       "      <th>V6</th>\n",
       "      <th>V7</th>\n",
       "      <th>V8</th>\n",
       "      <th>V9</th>\n",
       "      <th>...</th>\n",
       "      <th>V21</th>\n",
       "      <th>V22</th>\n",
       "      <th>V23</th>\n",
       "      <th>V24</th>\n",
       "      <th>V25</th>\n",
       "      <th>V26</th>\n",
       "      <th>V27</th>\n",
       "      <th>V28</th>\n",
       "      <th>Amount</th>\n",
       "      <th>Class</th>\n",
       "    </tr>\n",
       "  </thead>\n",
       "  <tbody>\n",
       "    <tr>\n",
       "      <th>0</th>\n",
       "      <td>0.0</td>\n",
       "      <td>-1.359807</td>\n",
       "      <td>-0.072781</td>\n",
       "      <td>2.536347</td>\n",
       "      <td>1.378155</td>\n",
       "      <td>-0.338321</td>\n",
       "      <td>0.462388</td>\n",
       "      <td>0.239599</td>\n",
       "      <td>0.098698</td>\n",
       "      <td>0.363787</td>\n",
       "      <td>...</td>\n",
       "      <td>-0.018307</td>\n",
       "      <td>0.277838</td>\n",
       "      <td>-0.110474</td>\n",
       "      <td>0.066928</td>\n",
       "      <td>0.128539</td>\n",
       "      <td>-0.189115</td>\n",
       "      <td>0.133558</td>\n",
       "      <td>-0.021053</td>\n",
       "      <td>149.62</td>\n",
       "      <td>0</td>\n",
       "    </tr>\n",
       "    <tr>\n",
       "      <th>1</th>\n",
       "      <td>0.0</td>\n",
       "      <td>1.191857</td>\n",
       "      <td>0.266151</td>\n",
       "      <td>0.166480</td>\n",
       "      <td>0.448154</td>\n",
       "      <td>0.060018</td>\n",
       "      <td>-0.082361</td>\n",
       "      <td>-0.078803</td>\n",
       "      <td>0.085102</td>\n",
       "      <td>-0.255425</td>\n",
       "      <td>...</td>\n",
       "      <td>-0.225775</td>\n",
       "      <td>-0.638672</td>\n",
       "      <td>0.101288</td>\n",
       "      <td>-0.339846</td>\n",
       "      <td>0.167170</td>\n",
       "      <td>0.125895</td>\n",
       "      <td>-0.008983</td>\n",
       "      <td>0.014724</td>\n",
       "      <td>2.69</td>\n",
       "      <td>0</td>\n",
       "    </tr>\n",
       "    <tr>\n",
       "      <th>2</th>\n",
       "      <td>1.0</td>\n",
       "      <td>-1.358354</td>\n",
       "      <td>-1.340163</td>\n",
       "      <td>1.773209</td>\n",
       "      <td>0.379780</td>\n",
       "      <td>-0.503198</td>\n",
       "      <td>1.800499</td>\n",
       "      <td>0.791461</td>\n",
       "      <td>0.247676</td>\n",
       "      <td>-1.514654</td>\n",
       "      <td>...</td>\n",
       "      <td>0.247998</td>\n",
       "      <td>0.771679</td>\n",
       "      <td>0.909412</td>\n",
       "      <td>-0.689281</td>\n",
       "      <td>-0.327642</td>\n",
       "      <td>-0.139097</td>\n",
       "      <td>-0.055353</td>\n",
       "      <td>-0.059752</td>\n",
       "      <td>378.66</td>\n",
       "      <td>0</td>\n",
       "    </tr>\n",
       "    <tr>\n",
       "      <th>3</th>\n",
       "      <td>1.0</td>\n",
       "      <td>-0.966272</td>\n",
       "      <td>-0.185226</td>\n",
       "      <td>1.792993</td>\n",
       "      <td>-0.863291</td>\n",
       "      <td>-0.010309</td>\n",
       "      <td>1.247203</td>\n",
       "      <td>0.237609</td>\n",
       "      <td>0.377436</td>\n",
       "      <td>-1.387024</td>\n",
       "      <td>...</td>\n",
       "      <td>-0.108300</td>\n",
       "      <td>0.005274</td>\n",
       "      <td>-0.190321</td>\n",
       "      <td>-1.175575</td>\n",
       "      <td>0.647376</td>\n",
       "      <td>-0.221929</td>\n",
       "      <td>0.062723</td>\n",
       "      <td>0.061458</td>\n",
       "      <td>123.50</td>\n",
       "      <td>0</td>\n",
       "    </tr>\n",
       "    <tr>\n",
       "      <th>4</th>\n",
       "      <td>2.0</td>\n",
       "      <td>-1.158233</td>\n",
       "      <td>0.877737</td>\n",
       "      <td>1.548718</td>\n",
       "      <td>0.403034</td>\n",
       "      <td>-0.407193</td>\n",
       "      <td>0.095921</td>\n",
       "      <td>0.592941</td>\n",
       "      <td>-0.270533</td>\n",
       "      <td>0.817739</td>\n",
       "      <td>...</td>\n",
       "      <td>-0.009431</td>\n",
       "      <td>0.798278</td>\n",
       "      <td>-0.137458</td>\n",
       "      <td>0.141267</td>\n",
       "      <td>-0.206010</td>\n",
       "      <td>0.502292</td>\n",
       "      <td>0.219422</td>\n",
       "      <td>0.215153</td>\n",
       "      <td>69.99</td>\n",
       "      <td>0</td>\n",
       "    </tr>\n",
       "  </tbody>\n",
       "</table>\n",
       "<p>5 rows × 31 columns</p>\n",
       "</div>"
      ],
      "text/plain": [
       "   Time        V1        V2        V3        V4        V5        V6        V7  \\\n",
       "0   0.0 -1.359807 -0.072781  2.536347  1.378155 -0.338321  0.462388  0.239599   \n",
       "1   0.0  1.191857  0.266151  0.166480  0.448154  0.060018 -0.082361 -0.078803   \n",
       "2   1.0 -1.358354 -1.340163  1.773209  0.379780 -0.503198  1.800499  0.791461   \n",
       "3   1.0 -0.966272 -0.185226  1.792993 -0.863291 -0.010309  1.247203  0.237609   \n",
       "4   2.0 -1.158233  0.877737  1.548718  0.403034 -0.407193  0.095921  0.592941   \n",
       "\n",
       "         V8        V9  ...       V21       V22       V23       V24       V25  \\\n",
       "0  0.098698  0.363787  ... -0.018307  0.277838 -0.110474  0.066928  0.128539   \n",
       "1  0.085102 -0.255425  ... -0.225775 -0.638672  0.101288 -0.339846  0.167170   \n",
       "2  0.247676 -1.514654  ...  0.247998  0.771679  0.909412 -0.689281 -0.327642   \n",
       "3  0.377436 -1.387024  ... -0.108300  0.005274 -0.190321 -1.175575  0.647376   \n",
       "4 -0.270533  0.817739  ... -0.009431  0.798278 -0.137458  0.141267 -0.206010   \n",
       "\n",
       "        V26       V27       V28  Amount  Class  \n",
       "0 -0.189115  0.133558 -0.021053  149.62      0  \n",
       "1  0.125895 -0.008983  0.014724    2.69      0  \n",
       "2 -0.139097 -0.055353 -0.059752  378.66      0  \n",
       "3 -0.221929  0.062723  0.061458  123.50      0  \n",
       "4  0.502292  0.219422  0.215153   69.99      0  \n",
       "\n",
       "[5 rows x 31 columns]"
      ]
     },
     "execution_count": 6,
     "metadata": {},
     "output_type": "execute_result"
    }
   ],
   "source": [
    "data.head()"
   ]
  },
  {
   "cell_type": "markdown",
   "metadata": {},
   "source": [
    "Da bismo mogli učiti na podacima moramo ih pripremiti tako da budu u pogodnom obliku. Prije svega, pošto znamo da je nad anonimiziranim značajkama provedena PCA transformacija, moramo skalirati i značajku 'Amount'. <br>\n",
    " Nakon skaliranja odbacujemo značajke 'Time' i 'Amount'. Umjesto toga u skup podataka vraćamo značajku 'Amount_Afte_Scaling'. <br>\n",
    " <b>Napomena</b>: Značajku 'Time' ćemo samo izbaciti iz skupa jer smo ranije zaključili da generalno nema veze sa tim je li neka transakcija valjana ili prevara. "
   ]
  },
  {
   "cell_type": "code",
   "execution_count": 7,
   "metadata": {},
   "outputs": [],
   "source": [
    "from sklearn.preprocessing import StandardScaler\n",
    "\n",
    "amount_after_scaling = StandardScaler().fit_transform(data['Amount'].values.reshape(-1,1))\n",
    "\n",
    "data.drop(['Time', 'Amount'], axis=1, inplace=True)\n",
    "data.insert(0, 'Amount_after_scaling', amount_after_scaling)"
   ]
  },
  {
   "cell_type": "markdown",
   "metadata": {},
   "source": [
    "Sljedeći korak koji trebamo je podijeliti podatke u skup za treniranje te u skup za testiranje. To nam omogućuje metoda iz sklearn biblioteke zvana train_test_split. Podjelu radimo tako da 20% podataka stavimo u skup za testiranje, dok za treniranje koristimo ostalih 80% podataka. "
   ]
  },
  {
   "cell_type": "code",
   "execution_count": 8,
   "metadata": {},
   "outputs": [],
   "source": [
    "from sklearn.model_selection import train_test_split\n",
    "\n",
    "X = data.drop('Class', axis=1)\n",
    "y = data['Class']\n",
    "X_data_train, X_data_test, y_data_train, y_data_test = train_test_split(X,y,test_size=0.20,random_state=42)\n",
    "y_data_test_non_fraud_num = y_data_test.value_counts()[0]\n",
    "y_data_test_fraud_num = y_data_test.value_counts()[1]"
   ]
  },
  {
   "cell_type": "markdown",
   "metadata": {},
   "source": [
    "Napomenimo još da ćemo za <i>cross-validation</i> koristiti <i>RepeatedStratifiedKFold</i> prilikom kojeg podatke dijelimo 5 puta te taj postupak ponavljamo 3 puta. "
   ]
  },
  {
   "cell_type": "code",
   "execution_count": 9,
   "metadata": {},
   "outputs": [],
   "source": [
    "from sklearn.model_selection import RepeatedStratifiedKFold\n",
    "rskf = RepeatedStratifiedKFold(n_splits=5, n_repeats=3)"
   ]
  },
  {
   "cell_type": "markdown",
   "metadata": {},
   "source": [
    "### Parametri"
   ]
  },
  {
   "cell_type": "code",
   "execution_count": null,
   "metadata": {},
   "outputs": [],
   "source": [
    "#popis klasifikatora koje koristimo"
   ]
  },
  {
   "cell_type": "markdown",
   "metadata": {},
   "source": [
    "#### Logistička regresija"
   ]
  },
  {
   "cell_type": "markdown",
   "metadata": {},
   "source": [
    "Parametri koje podešavamo kod linearne regresije su:\n",
    "<ul>\n",
    "    <li><em>C</em> - regularizacijski parametar, inverzno proporcionalan $\\lambda$ regulatoru. </li>\n",
    "    <li><em>penalty</em> - određuje koju regularizacijsku tehniku koristimo\n",
    "        <ul>\n",
    "            <li><i>ridge (l2)</i> - kazna je \"kvadratna veličina\" koeficjenata\n",
    "                \\[\n",
    "                rCost = \\sum_{i = 1}^{n}\\bigg(y_i - \\sum_{j=1}^{p}x_{ij}\\beta_j \\bigg)^2  + \\lambda \\sum_{j=1}^{p} \\beta_j^2\n",
    "                \\]</li>\n",
    "            <li><i>lasso (l1)</i> - kazna je \"apsolutna vrijednost veličine\" koeficjenata \n",
    "            \\[\n",
    "            lCost = \\sum_{i = 1}^{n}\\bigg(y_i - \\sum_{j=1}^{p}x_{ij}\\beta_j \\bigg)^2  + \\lambda \\sum_{j=1}^{p} \\mid\\beta_j\\mid\n",
    "            \\]</li>\n",
    "        </ul>\n",
    "    </li>\n",
    "</ul>"
   ]
  },
  {
   "cell_type": "code",
   "execution_count": 12,
   "metadata": {},
   "outputs": [],
   "source": [
    "from sklearn.model_selection import GridSearchCV\n",
    "log_reg_c_params = [0.01, 0.1, 1, 10, 100]\n",
    "log_reg_penalties = ['l1','l2']\n",
    "log_reg_params = {\"penalty\": log_reg_penalties, 'C': log_reg_c_params}"
   ]
  },
  {
   "cell_type": "markdown",
   "metadata": {},
   "source": [
    "#### Stabla odluke"
   ]
  },
  {
   "cell_type": "markdown",
   "metadata": {},
   "source": [
    "Parametri koje podešavamo kod stabala odluke:\n",
    "<ul>\n",
    "    <li><em>kriterij</em> - funkcija kvalitete podjele\n",
    "        <ul>\n",
    "            <li><i>gini</i> - kriterij koji koristimo da smanjimo vjerojatnost pogrešne klasifikacije\n",
    "            \\[\n",
    "            Gini = 1 - \\sum_j p_j^2\n",
    "            \\]</li>\n",
    "            <li><i>entropy</i> - kriterij koji koristimo da smanjimo nečistoću podjele\n",
    "            \\[\n",
    "            Entropy = - \\sum_j p_j log_2p_j\n",
    "            \\]</li>\n",
    "        </ul>\n",
    "    </li>\n",
    "</ul>"
   ]
  },
  {
   "cell_type": "code",
   "execution_count": 13,
   "metadata": {},
   "outputs": [],
   "source": [
    "criterion_params = ['gini', 'entropy']\n",
    "splitter_params = ['best', 'random']\n",
    "max_depth_params = [1, 2, 3, 4, 5, 6, 7]\n",
    "min_samples_leaf_params = [1, 3, 5, 7]\n",
    "dt_params = {'criterion': criterion_params, 'splitter': splitter_params, 'max_depth': max_depth_params, 'min_samples_leaf': min_samples_leaf_params}"
   ]
  },
  {
   "cell_type": "markdown",
   "metadata": {},
   "source": [
    "#### Bagging klasifikator"
   ]
  },
  {
   "cell_type": "markdown",
   "metadata": {},
   "source": [
    "Parametri koje podešavamo na bagging klasifikatoru na stablima odluke:\n",
    "<ul>\n",
    "    <li><em>broj procjenitelja</em> - određuje broj stabala odluke u ansamblu </li>\n",
    "    <li><em>maksimalan udio podataka</em> - određuje udio koji 'vadimo' iz trening skupa kod treniranja svakog procjenitelja</li>\n",
    "    <li><em>maksimalan udio značajki</em> - određuje udio značajki koje koristimo prilikom treniranja </li>\n",
    "</ul>"
   ]
  },
  {
   "cell_type": "code",
   "execution_count": 14,
   "metadata": {},
   "outputs": [],
   "source": [
    "num_estimators_params = [5, 7, 10, 12, 20, 50, 100]\n",
    "max_samples_params = [0.5, 0.7, 0.9, 1.0]\n",
    "max_features_params = [0.3, 0.5, 0.7, 0.9, 1.0]\n",
    "bag_params = {'n_estimators': num_estimators_params, 'max_samples': max_samples_params,\n",
    "              'max_features': max_features_params}"
   ]
  },
  {
   "cell_type": "markdown",
   "metadata": {},
   "source": [
    "#### Slučajne šume"
   ]
  },
  {
   "cell_type": "markdown",
   "metadata": {},
   "source": [
    "Parametri koje promatramo kod slučajnih šuma:\n",
    "<ul>\n",
    "    <li><em>kriterij</em> - poprima vrijednosti <i>gini</i> ili <i>entropy</i> koji su isto definirani kao i kod stabala odluke</li>\n",
    "    <li><em>broj procjenitelja</em> - određuje broj stabala u slučajnoj šumi</li>\n",
    "    <li><em>maksimalna dubina</em> - određuje maksimalnu dubinu svakog stabla u šumi</li>\n",
    "    <li><em>minimalan broj list</em> - određuje koliko primjeraka najmanje smije bit u listu stabla</li>\n",
    "    <li><em>težina klasa</em> - određuje težine koje dodjeljujemo klasama prilikom klasifikacije (valjana, prevara)\n",
    "        <ul>\n",
    "            <li><i>balanced</i> - određuje težine tako da uzima broj pojavljivanja klasa u ulaznim podacima</li>\n",
    "            <li><i>balanced_subsample</i> - isto kao i <i>balanced</i>, ali su u ovom slučaju težine bazirane na bootstrap primjerku svakog stabla koje se gradi</li>\n",
    "        </ul>\n",
    "    </li>\n",
    "</ul>"
   ]
  },
  {
   "cell_type": "code",
   "execution_count": 15,
   "metadata": {},
   "outputs": [],
   "source": [
    "criterion_params = ['gini', 'entropy']\n",
    "num_estimators_params = [5, 10, 50, 100]\n",
    "max_depth_params = [1, 2, 3, 4, 5, 7, 9]\n",
    "min_samples_leaf_params = [1, 3, 5, 7]\n",
    "class_weight_params = ['balanced', 'balanced_subsample']\n",
    "rf_params = {'criterion': criterion_params, 'n_estimators': num_estimators_params, 'max_depth': max_depth_params,\n",
    "             'min_samples_leaf': min_samples_leaf_params, 'class_weight': class_weight_params}"
   ]
  },
  {
   "cell_type": "markdown",
   "metadata": {},
   "source": [
    "#### Metoda najbližih susjeda"
   ]
  },
  {
   "cell_type": "markdown",
   "metadata": {},
   "source": [
    "Parametri koje podešavamo kod metode najbližih susjeda:\n",
    "<ul>\n",
    "    <li><em>broj susjeda</em> - određuje koliko najbližih susjeda sudjeluje u 'glasanju' prilikom klasifikacije nekog primjerka</li>\n",
    "    <li><em>algoritam</em> - određuje algoritam koji koristimo da bi pronašli najbliže susjede \n",
    "        <ul>\n",
    "            <li><i>ball tree</i> - dijeli primjerke podataka u ugniježđene skupove hipersfera koje nazivamo loptama (balls)</li>\n",
    "            <li><i>KD tree</i> - dijeli primjerke podataka u k-dimenzionalne kocke</li>\n",
    "            <li><i>brute</i> - koristi dobro poznati pristup grubom silom</li>\n",
    "            <li><i>auto</i> - automatski pokušava utvrditi koji je najprikladniji algoritam na temelju podataka koje prima <i>fit</i> metoda\n",
    "        </ul>\n",
    "    </li>\n",
    "    <li><em>p (power)</em> - biramo koji algoritam koristimo da bi mjerili udaljenost\n",
    "        <ul>\n",
    "            <li><i>manhattan udaljenost (1)</i> - $d_1(p,q) = \\sum_{i=1}^n \\mid p_i - q_i \\mid$</li>\n",
    "            <li><i>euklidska udaljenost (2)</i> - $d_2(p,q) = \\sqrt{\\sum_{i=1}^n  (p_i - q_i)^2 }$</li>\n",
    "        </ul>\n",
    "    </li>\n",
    "</ul>"
   ]
  },
  {
   "cell_type": "code",
   "execution_count": 16,
   "metadata": {},
   "outputs": [],
   "source": [
    "num_neighbors_params = [1, 2, 3, 4, 5, 7, 9]\n",
    "alg_params = ['auto', 'brute', 'ball_tree', 'kd_tree']\n",
    "p_params = [1, 2]\n",
    "\n",
    "knn_params = {'n_neighbors': num_neighbors_params, 'algorithm': alg_params, 'p': p_params, 'metric': ['minkowski']}"
   ]
  },
  {
   "cell_type": "markdown",
   "metadata": {},
   "source": [
    "#### Metoda potpornih vektora"
   ]
  },
  {
   "cell_type": "markdown",
   "metadata": {},
   "source": [
    "Parametri koje podešavamo za metodu potpornih vektora:\n",
    "<ul>\n",
    "    <li><em>C</em> - regularizacijski parametar, ima istu ulogu kao i u logističkoj regresiji</li>\n",
    "    <li><em>kernel</em> - određuje funkciju koja omogućava rad u više-dimenzionalnom prostoru bez da ikad izračuna koordinate u tom višedimenzionalnom prostoru, već koristi unutarnje produkte slika svih parova podataka u prostoru značajki\n",
    "        <ul>\n",
    "            <li><i>linear</i> - koristi linearnu plohu da podijeli podatke, formula: $K(X,Y) = X^TY$</li>\n",
    "            <li><i>poly</i> - koristi polinom da podijeli podatke, formula: $K(X,Y) = (\\gamma \\cdot X^TY + r)^d$</li>\n",
    "            <li><i>sigmoid</i> - koristi sigmoidalnu funkciju da podijeli podatke, formula: $K(X,Y) = \\tanh(\\gamma \\cdot X^TY + r)$</li>\n",
    "            <li><i>rbf</i> -  koristi krivulje koje okružuju podatke i sumira ih tako da granica podjele bude definirana topološkim uvjetom, formula: $K(X,Y) = \\exp \\bigg( \\frac{\\mid \\mid X - Y\\mid \\mid^2}{2\\sigma^2} \\bigg)$</li>\n",
    "        </ul>\n",
    "    <li><em>stupanj</em> (u formuli za <i>poly</i> označen s d) - određuje stupanj polinoma</li>\n",
    "    <li><em>gamma</em> (u formulama za <i>poly</i> i <i>sigmoid</i> označen s $\\gamma$) - određuje koeficijent</li>\n",
    "</ul>"
   ]
  },
  {
   "cell_type": "code",
   "execution_count": 17,
   "metadata": {},
   "outputs": [],
   "source": [
    "svc_c_params = [0.001, 0.01, 0.1, 1, 10, 1]\n",
    "kernel_params = ['linear', 'poly', 'sigmoid', 'rbf']\n",
    "degree_params = [1, 2, 3, 4, 5]\n",
    "gamma_params = ['scale', 'auto', 0.001, 0.01, 0.1, 1, 10]\n",
    "svc_params = {'C': svc_c_params, 'kernel': kernel_params, 'degree': degree_params, 'gamma': gamma_params }"
   ]
  },
  {
   "cell_type": "markdown",
   "metadata": {},
   "source": [
    "#### Boosting"
   ]
  },
  {
   "cell_type": "markdown",
   "metadata": {},
   "source": [
    "Za boosting ćemo koristiti 4 različita algoritma te usporediti njihove rezultate. Algoritmi koje koristimo su:\n",
    "<ol>\n",
    "    <li>XGB (eXtreme Gradient Boosting)</li>\n",
    "    <li>LGBM (Light Gradient Boosting Method)</li>\n",
    "    <li>CatBoost (CATegorical Boosting)</li>\n",
    "    <li>AdaBoost (ADAptive Boosting)</li>\n",
    "</ol>"
   ]
  },
  {
   "cell_type": "markdown",
   "metadata": {},
   "source": [
    "##### XGB"
   ]
  },
  {
   "cell_type": "markdown",
   "metadata": {},
   "source": [
    "Parametri koje podešavamo kod XGB-a:\n",
    "<ul>\n",
    "    <li><em>gamma</em> - regularizacijski parametar 'kroz sva stabla'</li>\n",
    "    <li><em>maksimalna dubina</em> - maksimalna dubina svakog stabla</li>\n",
    "    <li><em>udio stupaca po stablu</em> - udio značajki koje upotrebljavamo za konstrukciju svakog novog stabla</li>\n",
    "    <li><em>stopa učenja</em> - određuje koliko koraka treba napraviti (što je stopa manja, imamo više koraka, odnosno sporije učenje, ali možda i precizniji model)</li>\n",
    "    <li><em>broj procjenitelja</em> - broj stabala koji koristimo prilikom treniranja</li>\n",
    "</ul>"
   ]
  },
  {
   "cell_type": "code",
   "execution_count": 19,
   "metadata": {},
   "outputs": [],
   "source": [
    "xgb_gamma = [0, 1, 5, 10]\n",
    "xgb_max_depth = [1, 2, 3, 4, 5, 7]\n",
    "xgb_colsample_bytree = [0.3, 0.5, 0.8]\n",
    "xgb_learning_rate = [0.3, 0.1, 0.05, 0.01]\n",
    "xgb_n_estimators = [10, 20, 50, 100]\n",
    "xgb_params = {'gamma': xgb_gamma, 'max_depth': xgb_max_depth, 'colsample_bytree': xgb_colsample_bytree, \n",
    "              'learning_rate': xgb_learning_rate, 'n_estimators': xgb_n_estimators}"
   ]
  },
  {
   "cell_type": "markdown",
   "metadata": {},
   "source": [
    "##### LGBM"
   ]
  },
  {
   "cell_type": "markdown",
   "metadata": {},
   "source": [
    "Parametri koje podešavamo kod LGBM-a:\n",
    "<ul>\n",
    "    <li><em>tip boostinga</em> - određuje koji od sljedećih algoritama koristimo za boosting\n",
    "        <ul>\n",
    "            <li><i>gdbt (Gradient Boosting Decision Tree)</i> - tradicionalna stabla odluke trenirana u nekom određenom  redoslijedu (u svakom koraku model pokušava naučiti razliku između stvarnog izlaza i težinske sume predikcija prethodne iteracije)</li>\n",
    "            <li><i>goss (Gradient-based One Sided Sampling)</i> -  metoda koja se zasniva na odbacivanju instanci s malim gradijentom (jer su te već dobro trenirane), te se fokusira samo na one s većim gradijentom</li>\n",
    "            <li><i>rf (Random Forest)</i> - klasičan pristup korištenjem slučajnih šuma</li>\n",
    "            <li><i>dart (Dropouts meets multiple Additive Regression Trees)</i> - novija metoda u koju je dropout tehnika korištena najviše kod dubokih neuronskih mreža</li>\n",
    "        </ul>\n",
    "    </li>\n",
    "    <li><em>maksimalna dubina</em> - ima isto značenje kao i kod XGB-a</li>\n",
    "    <li><em>udio stupaca po stablu</em> - ima isto značenje kao i kod XGB-a</li>\n",
    "    <li><em>stopa učenja</em> - ima isto značenje kao i kod XGB-a</li>\n",
    "    <li><em>broj procjenitelja</em> - ima isto značenje kao i kod XGB-a</li>\n",
    "</ul>"
   ]
  },
  {
   "cell_type": "code",
   "execution_count": 22,
   "metadata": {},
   "outputs": [],
   "source": [
    "lgbm_boosting_type = ['gbdt', 'goss', 'rf', 'dart']\n",
    "lgbm_max_depth = xgb_max_depth\n",
    "lgbm_learning_rate = xgb_learning_rate\n",
    "lgbm_colsample_bytree = xgb_colsample_bytree\n",
    "lgbm_n_estimators = xgb_n_estimators\n",
    "lgbm_params = {'boosting_type': lgbm_boosting_type, 'max_depth': lgbm_max_depth, 'colsample_bytree': lgbm_colsample_bytree, \n",
    "               'learning_rate': lgbm_learning_rate, 'n_estimators': lgbm_n_estimators}\n"
   ]
  },
  {
   "cell_type": "markdown",
   "metadata": {},
   "source": [
    "##### CatBoost"
   ]
  },
  {
   "cell_type": "markdown",
   "metadata": {},
   "source": [
    "Parametri koje podešavamo kod CatBoosta:\n",
    "<ul>\n",
    "    <li><em>dubina</em> - isto značenje kao i kod XGB-a</li>\n",
    "    <li><em>stopa učenja</em> - isto značenje kao i kod XGB-a</li>\n",
    "    <li><em>broj procjenitelja</em> - isto značenje kao i kod XGB-a</li>\n",
    "</ul>"
   ]
  },
  {
   "cell_type": "code",
   "execution_count": 23,
   "metadata": {},
   "outputs": [],
   "source": [
    "cat_depth = xgb_max_depth\n",
    "cat_learning_rate = xgb_learning_rate\n",
    "cat_n_estimators = xgb_n_estimators\n",
    "cat_params = {'depth': cat_depth, 'learning_rate': cat_learning_rate, 'n_estimators': cat_n_estimators }"
   ]
  },
  {
   "cell_type": "markdown",
   "metadata": {},
   "source": [
    "##### AdaBoost"
   ]
  },
  {
   "cell_type": "markdown",
   "metadata": {},
   "source": [
    "Parametri koje podešavamo kod AdaBoosta:\n",
    "<ul>\n",
    "    <li><em>procjenitelj</em> - procjenitelj kojeg AdaBoost koristi (u našem slučaju stablo odluke)\n",
    "        <ul>\n",
    "            <li><i>kriterij</i> - ima isto značenje kao i za stablo odluke</li>\n",
    "            <li><i>splitter</i> - ima isto značenje kao i za stablo odluke</li>\n",
    "            <li><i>maksimalna dubina</i> - ima isto značenje kao i za stablo odluke</li>\n",
    "        </ul>\n",
    "    </li>\n",
    "    <li><em>stopa učenja</em> - ima isto značenje kao i kod XGB-a</li>\n",
    "    <li><em>broj procjenitelja</em> - ima isto značenje kao i kod XGB-a</li>\n",
    "</ul>"
   ]
  },
  {
   "cell_type": "code",
   "execution_count": 24,
   "metadata": {},
   "outputs": [],
   "source": [
    "ada_criterion = ['gini', 'entropy']\n",
    "ada_max_depth = xgb_max_depth\n",
    "ada_splitter = ['best', 'random']\n",
    "ada_n_estimators = xgb_n_estimators\n",
    "ada_learning_rate = xgb_learning_rate\n",
    "ada_params = {'n_estimators': ada_n_estimators, 'learning_rate': ada_learning_rate}\n",
    "\n",
    "ada_params = {\"base_estimator__criterion\" : [\"gini\", \"entropy\"],\n",
    "              \"base_estimator__splitter\" :   [\"best\", \"random\"],\n",
    "              \"base_estimator__max_depth\": xgb_max_depth,\n",
    "              \"n_estimators\": xgb_n_estimators,\n",
    "              \"learning_rate\": xgb_learning_rate\n",
    "             }"
   ]
  },
  {
   "cell_type": "code",
   "execution_count": null,
   "metadata": {},
   "outputs": [],
   "source": []
  }
 ],
 "metadata": {
  "kernelspec": {
   "display_name": "Python 3",
   "language": "python",
   "name": "python3"
  },
  "language_info": {
   "codemirror_mode": {
    "name": "ipython",
    "version": 3
   },
   "file_extension": ".py",
   "mimetype": "text/x-python",
   "name": "python",
   "nbconvert_exporter": "python",
   "pygments_lexer": "ipython3",
   "version": "3.7.6"
  }
 },
 "nbformat": 4,
 "nbformat_minor": 4
}
