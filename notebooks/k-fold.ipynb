{
 "cells": [
  {
   "cell_type": "code",
   "execution_count": 1,
   "metadata": {},
   "outputs": [],
   "source": [
    "import pandas as pd"
   ]
  },
  {
   "cell_type": "code",
   "execution_count": 2,
   "metadata": {},
   "outputs": [],
   "source": [
    "data = pd.read_csv('creditcard.csv')"
   ]
  },
  {
   "cell_type": "code",
   "execution_count": 44,
   "metadata": {},
   "outputs": [
    {
     "name": "stdout",
     "output_type": "stream",
     "text": [
      "Train: Broj valjanih=181932, Broj Prevara=344\t Test: Broj Valjanih=45496, Broj Prevara=73\n",
      "Train: Broj valjanih=181935, Broj Prevara=341\t Test: Broj Valjanih=45493, Broj Prevara=76\n",
      "Train: Broj valjanih=181961, Broj Prevara=315\t Test: Broj Valjanih=45467, Broj Prevara=102\n",
      "Train: Broj valjanih=181935, Broj Prevara=341\t Test: Broj Valjanih=45493, Broj Prevara=76\n",
      "Train: Broj valjanih=181949, Broj Prevara=327\t Test: Broj Valjanih=45479, Broj Prevara=90\n"
     ]
    }
   ],
   "source": [
    "from sklearn.model_selection import KFold, StratifiedKFold\n",
    "from sklearn.model_selection import train_test_split\n",
    "\n",
    "\n",
    "X = data.drop('Class', axis=1)\n",
    "y = data['Class']\n",
    "kfold = KFold(n_splits=5, shuffle=True, random_state=1)\n",
    "# enumerate the splits and summarize the distributions\n",
    "X_data_train, X_data_test, y_data_train, y_data_test = train_test_split(X,y,test_size=0.20,random_state=42, stratify=y)\n",
    "for train_ix, test_ix in kfold.split(X_data_train,y_data_train):\n",
    "    xtrain, xtest = X.iloc[train_ix], X.iloc[test_ix]\n",
    "    ytrain, ytest = y.iloc[train_ix], y.iloc[test_ix]\n",
    "    train_0, train_1 = len(ytrain[ytrain==0]), len(ytrain[ytrain==1])\n",
    "    test_0, test_1 = len(ytest[ytest==0]), len(ytest[ytest==1])\n",
    "    print('Train: Broj valjanih=%d, Broj Prevara=%d\\t Test: Broj Valjanih=%d, Broj Prevara=%d' % (train_0, train_1, test_0, test_1))"
   ]
  },
  {
   "cell_type": "code",
   "execution_count": 42,
   "metadata": {},
   "outputs": [
    {
     "name": "stdout",
     "output_type": "stream",
     "text": [
      "Train: Broj valjanih=181941, Broj Prevara=335\t Test: Broj Valjanih=45487, Broj Prevara=82\n",
      "Train: Broj valjanih=181951, Broj Prevara=325\t Test: Broj Valjanih=45477, Broj Prevara=92\n",
      "Train: Broj valjanih=181938, Broj Prevara=338\t Test: Broj Valjanih=45490, Broj Prevara=79\n",
      "Train: Broj valjanih=181940, Broj Prevara=336\t Test: Broj Valjanih=45488, Broj Prevara=81\n",
      "Train: Broj valjanih=181942, Broj Prevara=334\t Test: Broj Valjanih=45486, Broj Prevara=83\n"
     ]
    }
   ],
   "source": [
    "skfold = StratifiedKFold(n_splits=5, shuffle=True, random_state=1)\n",
    "# enumerate the splits and summarize the distributions\n",
    "for train_ix, test_ix in skfold.split(X_data_train,y_data_train):\n",
    "    xtrain, xtest = X.iloc[train_ix], X.iloc[test_ix]\n",
    "    ytrain, ytest = y.iloc[train_ix], y.iloc[test_ix]\n",
    "    train_0, train_1 = len(ytrain[ytrain==0]), len(ytrain[ytrain==1])\n",
    "    test_0, test_1 = len(ytest[ytest==0]), len(ytest[ytest==1])\n",
    "    print('Train: Broj valjanih=%d, Broj Prevara=%d\\t Test: Broj Valjanih=%d, Broj Prevara=%d' % (train_0, train_1, test_0, test_1))"
   ]
  },
  {
   "cell_type": "code",
   "execution_count": null,
   "metadata": {},
   "outputs": [],
   "source": []
  }
 ],
 "metadata": {
  "kernelspec": {
   "display_name": "Python 3",
   "language": "python",
   "name": "python3"
  },
  "language_info": {
   "codemirror_mode": {
    "name": "ipython",
    "version": 3
   },
   "file_extension": ".py",
   "mimetype": "text/x-python",
   "name": "python",
   "nbconvert_exporter": "python",
   "pygments_lexer": "ipython3",
   "version": "3.7.6"
  }
 },
 "nbformat": 4,
 "nbformat_minor": 4
}
